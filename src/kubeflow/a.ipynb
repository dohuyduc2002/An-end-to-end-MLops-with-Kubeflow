{
 "cells": [
  {
   "cell_type": "code",
   "execution_count": 1,
   "id": "cfc92482",
   "metadata": {},
   "outputs": [],
   "source": [
    "import os\n",
    "from kfp import dsl\n",
    "from kfp.components import load_component_from_file\n",
    "from dotenv import load_dotenv\n",
    "\n",
    "load_dotenv(\".env\")\n",
    "WEBHOOK = os.getenv(\"DISCORD\")"
   ]
  },
  {
   "cell_type": "code",
   "execution_count": 2,
   "id": "556e3799",
   "metadata": {},
   "outputs": [
    {
     "data": {
      "text/plain": [
       "'https://discord.com/api/webhooks/1362318546205413477/yzy2bqyJxNtPQF7LVUq-NcyVlQibqtQ1d5XDKfO84QdXR881Wu0Sx3kcAMtbANmyQe6N'"
      ]
     },
     "execution_count": 2,
     "metadata": {},
     "output_type": "execute_result"
    }
   ],
   "source": [
    "WEBHOOK"
   ]
  },
  {
   "cell_type": "code",
   "execution_count": null,
   "id": "92485e60",
   "metadata": {},
   "outputs": [],
   "source": []
  }
 ],
 "metadata": {
  "kernelspec": {
   "display_name": "test",
   "language": "python",
   "name": "python3"
  },
  "language_info": {
   "codemirror_mode": {
    "name": "ipython",
    "version": 3
   },
   "file_extension": ".py",
   "mimetype": "text/x-python",
   "name": "python",
   "nbconvert_exporter": "python",
   "pygments_lexer": "ipython3",
   "version": "3.9.21"
  }
 },
 "nbformat": 4,
 "nbformat_minor": 5
}
